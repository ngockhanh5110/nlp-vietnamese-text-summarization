{
  "nbformat": 4,
  "nbformat_minor": 0,
  "metadata": {
    "colab": {
      "name": "testing-huggingface",
      "provenance": [],
      "toc_visible": true,
      "machine_shape": "hm",
      "include_colab_link": true
    },
    "kernelspec": {
      "display_name": "Python 3",
      "name": "python3"
    },
    "accelerator": "GPU",
    "widgets": {
      "application/vnd.jupyter.widget-state+json": {
        "22f78a4069864febaa62d0db307b8cd0": {
          "model_module": "@jupyter-widgets/controls",
          "model_name": "HBoxModel",
          "state": {
            "_view_name": "HBoxView",
            "_dom_classes": [],
            "_model_name": "HBoxModel",
            "_view_module": "@jupyter-widgets/controls",
            "_model_module_version": "1.5.0",
            "_view_count": null,
            "_view_module_version": "1.5.0",
            "box_style": "",
            "layout": "IPY_MODEL_f67a2fcaae0748159e1cb40a3f24c199",
            "_model_module": "@jupyter-widgets/controls",
            "children": [
              "IPY_MODEL_07f57c3189a54fb8839d6c2088e85a72",
              "IPY_MODEL_9cb7ad15568a4059bff5435144cff4c1"
            ]
          }
        },
        "f67a2fcaae0748159e1cb40a3f24c199": {
          "model_module": "@jupyter-widgets/base",
          "model_name": "LayoutModel",
          "state": {
            "_view_name": "LayoutView",
            "grid_template_rows": null,
            "right": null,
            "justify_content": null,
            "_view_module": "@jupyter-widgets/base",
            "overflow": null,
            "_model_module_version": "1.2.0",
            "_view_count": null,
            "flex_flow": null,
            "width": null,
            "min_width": null,
            "border": null,
            "align_items": null,
            "bottom": null,
            "_model_module": "@jupyter-widgets/base",
            "top": null,
            "grid_column": null,
            "overflow_y": null,
            "overflow_x": null,
            "grid_auto_flow": null,
            "grid_area": null,
            "grid_template_columns": null,
            "flex": null,
            "_model_name": "LayoutModel",
            "justify_items": null,
            "grid_row": null,
            "max_height": null,
            "align_content": null,
            "visibility": null,
            "align_self": null,
            "height": null,
            "min_height": null,
            "padding": null,
            "grid_auto_rows": null,
            "grid_gap": null,
            "max_width": null,
            "order": null,
            "_view_module_version": "1.2.0",
            "grid_template_areas": null,
            "object_position": null,
            "object_fit": null,
            "grid_auto_columns": null,
            "margin": null,
            "display": null,
            "left": null
          }
        },
        "07f57c3189a54fb8839d6c2088e85a72": {
          "model_module": "@jupyter-widgets/controls",
          "model_name": "FloatProgressModel",
          "state": {
            "_view_name": "ProgressView",
            "style": "IPY_MODEL_3c4f34318aae4dfb94630b4901be1561",
            "_dom_classes": [],
            "description": "Downloading: ",
            "_model_name": "FloatProgressModel",
            "bar_style": "success",
            "max": 1717,
            "_view_module": "@jupyter-widgets/controls",
            "_model_module_version": "1.5.0",
            "value": 1717,
            "_view_count": null,
            "_view_module_version": "1.5.0",
            "orientation": "horizontal",
            "min": 0,
            "description_tooltip": null,
            "_model_module": "@jupyter-widgets/controls",
            "layout": "IPY_MODEL_7f6f0140cccf412892423b32e43e82fd"
          }
        },
        "9cb7ad15568a4059bff5435144cff4c1": {
          "model_module": "@jupyter-widgets/controls",
          "model_name": "HTMLModel",
          "state": {
            "_view_name": "HTMLView",
            "style": "IPY_MODEL_78ad9465d68342a7bd20df762eabbeb0",
            "_dom_classes": [],
            "description": "",
            "_model_name": "HTMLModel",
            "placeholder": "​",
            "_view_module": "@jupyter-widgets/controls",
            "_model_module_version": "1.5.0",
            "value": " 4.20k/? [00:00&lt;00:00, 17.0kB/s]",
            "_view_count": null,
            "_view_module_version": "1.5.0",
            "description_tooltip": null,
            "_model_module": "@jupyter-widgets/controls",
            "layout": "IPY_MODEL_d17d38585ea9431592adbf70ae88ad11"
          }
        },
        "3c4f34318aae4dfb94630b4901be1561": {
          "model_module": "@jupyter-widgets/controls",
          "model_name": "ProgressStyleModel",
          "state": {
            "_view_name": "StyleView",
            "_model_name": "ProgressStyleModel",
            "description_width": "initial",
            "_view_module": "@jupyter-widgets/base",
            "_model_module_version": "1.5.0",
            "_view_count": null,
            "_view_module_version": "1.2.0",
            "bar_color": null,
            "_model_module": "@jupyter-widgets/controls"
          }
        },
        "7f6f0140cccf412892423b32e43e82fd": {
          "model_module": "@jupyter-widgets/base",
          "model_name": "LayoutModel",
          "state": {
            "_view_name": "LayoutView",
            "grid_template_rows": null,
            "right": null,
            "justify_content": null,
            "_view_module": "@jupyter-widgets/base",
            "overflow": null,
            "_model_module_version": "1.2.0",
            "_view_count": null,
            "flex_flow": null,
            "width": null,
            "min_width": null,
            "border": null,
            "align_items": null,
            "bottom": null,
            "_model_module": "@jupyter-widgets/base",
            "top": null,
            "grid_column": null,
            "overflow_y": null,
            "overflow_x": null,
            "grid_auto_flow": null,
            "grid_area": null,
            "grid_template_columns": null,
            "flex": null,
            "_model_name": "LayoutModel",
            "justify_items": null,
            "grid_row": null,
            "max_height": null,
            "align_content": null,
            "visibility": null,
            "align_self": null,
            "height": null,
            "min_height": null,
            "padding": null,
            "grid_auto_rows": null,
            "grid_gap": null,
            "max_width": null,
            "order": null,
            "_view_module_version": "1.2.0",
            "grid_template_areas": null,
            "object_position": null,
            "object_fit": null,
            "grid_auto_columns": null,
            "margin": null,
            "display": null,
            "left": null
          }
        },
        "78ad9465d68342a7bd20df762eabbeb0": {
          "model_module": "@jupyter-widgets/controls",
          "model_name": "DescriptionStyleModel",
          "state": {
            "_view_name": "StyleView",
            "_model_name": "DescriptionStyleModel",
            "description_width": "",
            "_view_module": "@jupyter-widgets/base",
            "_model_module_version": "1.5.0",
            "_view_count": null,
            "_view_module_version": "1.2.0",
            "_model_module": "@jupyter-widgets/controls"
          }
        },
        "d17d38585ea9431592adbf70ae88ad11": {
          "model_module": "@jupyter-widgets/base",
          "model_name": "LayoutModel",
          "state": {
            "_view_name": "LayoutView",
            "grid_template_rows": null,
            "right": null,
            "justify_content": null,
            "_view_module": "@jupyter-widgets/base",
            "overflow": null,
            "_model_module_version": "1.2.0",
            "_view_count": null,
            "flex_flow": null,
            "width": null,
            "min_width": null,
            "border": null,
            "align_items": null,
            "bottom": null,
            "_model_module": "@jupyter-widgets/base",
            "top": null,
            "grid_column": null,
            "overflow_y": null,
            "overflow_x": null,
            "grid_auto_flow": null,
            "grid_area": null,
            "grid_template_columns": null,
            "flex": null,
            "_model_name": "LayoutModel",
            "justify_items": null,
            "grid_row": null,
            "max_height": null,
            "align_content": null,
            "visibility": null,
            "align_self": null,
            "height": null,
            "min_height": null,
            "padding": null,
            "grid_auto_rows": null,
            "grid_gap": null,
            "max_width": null,
            "order": null,
            "_view_module_version": "1.2.0",
            "grid_template_areas": null,
            "object_position": null,
            "object_fit": null,
            "grid_auto_columns": null,
            "margin": null,
            "display": null,
            "left": null
          }
        },
        "49f5eab8324a40979d6ec4e2d70415e4": {
          "model_module": "@jupyter-widgets/controls",
          "model_name": "HBoxModel",
          "state": {
            "_view_name": "HBoxView",
            "_dom_classes": [],
            "_model_name": "HBoxModel",
            "_view_module": "@jupyter-widgets/controls",
            "_model_module_version": "1.5.0",
            "_view_count": null,
            "_view_module_version": "1.5.0",
            "box_style": "",
            "layout": "IPY_MODEL_7e5b5d27ac0445e5b709954fe4b8d1ab",
            "_model_module": "@jupyter-widgets/controls",
            "children": [
              "IPY_MODEL_8b8b068c57804df583b29021018de16d",
              "IPY_MODEL_a0b0d2e606124d63b7846c6aad4cad98"
            ]
          }
        },
        "7e5b5d27ac0445e5b709954fe4b8d1ab": {
          "model_module": "@jupyter-widgets/base",
          "model_name": "LayoutModel",
          "state": {
            "_view_name": "LayoutView",
            "grid_template_rows": null,
            "right": null,
            "justify_content": null,
            "_view_module": "@jupyter-widgets/base",
            "overflow": null,
            "_model_module_version": "1.2.0",
            "_view_count": null,
            "flex_flow": null,
            "width": null,
            "min_width": null,
            "border": null,
            "align_items": null,
            "bottom": null,
            "_model_module": "@jupyter-widgets/base",
            "top": null,
            "grid_column": null,
            "overflow_y": null,
            "overflow_x": null,
            "grid_auto_flow": null,
            "grid_area": null,
            "grid_template_columns": null,
            "flex": null,
            "_model_name": "LayoutModel",
            "justify_items": null,
            "grid_row": null,
            "max_height": null,
            "align_content": null,
            "visibility": null,
            "align_self": null,
            "height": null,
            "min_height": null,
            "padding": null,
            "grid_auto_rows": null,
            "grid_gap": null,
            "max_width": null,
            "order": null,
            "_view_module_version": "1.2.0",
            "grid_template_areas": null,
            "object_position": null,
            "object_fit": null,
            "grid_auto_columns": null,
            "margin": null,
            "display": null,
            "left": null
          }
        },
        "8b8b068c57804df583b29021018de16d": {
          "model_module": "@jupyter-widgets/controls",
          "model_name": "FloatProgressModel",
          "state": {
            "_view_name": "ProgressView",
            "style": "IPY_MODEL_c0315b2a45a94e85be1b4b1137e9b9f0",
            "_dom_classes": [],
            "description": "100%",
            "_model_name": "FloatProgressModel",
            "bar_style": "success",
            "max": 708,
            "_view_module": "@jupyter-widgets/controls",
            "_model_module_version": "1.5.0",
            "value": 708,
            "_view_count": null,
            "_view_module_version": "1.5.0",
            "orientation": "horizontal",
            "min": 0,
            "description_tooltip": null,
            "_model_module": "@jupyter-widgets/controls",
            "layout": "IPY_MODEL_5ed6aa81b62641558ad7c41fc17df6b7"
          }
        },
        "a0b0d2e606124d63b7846c6aad4cad98": {
          "model_module": "@jupyter-widgets/controls",
          "model_name": "HTMLModel",
          "state": {
            "_view_name": "HTMLView",
            "style": "IPY_MODEL_390f71c0a1784d608987eea38b0a22dd",
            "_dom_classes": [],
            "description": "",
            "_model_name": "HTMLModel",
            "placeholder": "​",
            "_view_module": "@jupyter-widgets/controls",
            "_model_module_version": "1.5.0",
            "value": " 708/708 [36:36&lt;00:00,  3.10s/ba]",
            "_view_count": null,
            "_view_module_version": "1.5.0",
            "description_tooltip": null,
            "_model_module": "@jupyter-widgets/controls",
            "layout": "IPY_MODEL_de8093a9fb404f6d8a71ad28836fd2cd"
          }
        },
        "c0315b2a45a94e85be1b4b1137e9b9f0": {
          "model_module": "@jupyter-widgets/controls",
          "model_name": "ProgressStyleModel",
          "state": {
            "_view_name": "StyleView",
            "_model_name": "ProgressStyleModel",
            "description_width": "initial",
            "_view_module": "@jupyter-widgets/base",
            "_model_module_version": "1.5.0",
            "_view_count": null,
            "_view_module_version": "1.2.0",
            "bar_color": null,
            "_model_module": "@jupyter-widgets/controls"
          }
        },
        "5ed6aa81b62641558ad7c41fc17df6b7": {
          "model_module": "@jupyter-widgets/base",
          "model_name": "LayoutModel",
          "state": {
            "_view_name": "LayoutView",
            "grid_template_rows": null,
            "right": null,
            "justify_content": null,
            "_view_module": "@jupyter-widgets/base",
            "overflow": null,
            "_model_module_version": "1.2.0",
            "_view_count": null,
            "flex_flow": null,
            "width": null,
            "min_width": null,
            "border": null,
            "align_items": null,
            "bottom": null,
            "_model_module": "@jupyter-widgets/base",
            "top": null,
            "grid_column": null,
            "overflow_y": null,
            "overflow_x": null,
            "grid_auto_flow": null,
            "grid_area": null,
            "grid_template_columns": null,
            "flex": null,
            "_model_name": "LayoutModel",
            "justify_items": null,
            "grid_row": null,
            "max_height": null,
            "align_content": null,
            "visibility": null,
            "align_self": null,
            "height": null,
            "min_height": null,
            "padding": null,
            "grid_auto_rows": null,
            "grid_gap": null,
            "max_width": null,
            "order": null,
            "_view_module_version": "1.2.0",
            "grid_template_areas": null,
            "object_position": null,
            "object_fit": null,
            "grid_auto_columns": null,
            "margin": null,
            "display": null,
            "left": null
          }
        },
        "390f71c0a1784d608987eea38b0a22dd": {
          "model_module": "@jupyter-widgets/controls",
          "model_name": "DescriptionStyleModel",
          "state": {
            "_view_name": "StyleView",
            "_model_name": "DescriptionStyleModel",
            "description_width": "",
            "_view_module": "@jupyter-widgets/base",
            "_model_module_version": "1.5.0",
            "_view_count": null,
            "_view_module_version": "1.2.0",
            "_model_module": "@jupyter-widgets/controls"
          }
        },
        "de8093a9fb404f6d8a71ad28836fd2cd": {
          "model_module": "@jupyter-widgets/base",
          "model_name": "LayoutModel",
          "state": {
            "_view_name": "LayoutView",
            "grid_template_rows": null,
            "right": null,
            "justify_content": null,
            "_view_module": "@jupyter-widgets/base",
            "overflow": null,
            "_model_module_version": "1.2.0",
            "_view_count": null,
            "flex_flow": null,
            "width": null,
            "min_width": null,
            "border": null,
            "align_items": null,
            "bottom": null,
            "_model_module": "@jupyter-widgets/base",
            "top": null,
            "grid_column": null,
            "overflow_y": null,
            "overflow_x": null,
            "grid_auto_flow": null,
            "grid_area": null,
            "grid_template_columns": null,
            "flex": null,
            "_model_name": "LayoutModel",
            "justify_items": null,
            "grid_row": null,
            "max_height": null,
            "align_content": null,
            "visibility": null,
            "align_self": null,
            "height": null,
            "min_height": null,
            "padding": null,
            "grid_auto_rows": null,
            "grid_gap": null,
            "max_width": null,
            "order": null,
            "_view_module_version": "1.2.0",
            "grid_template_areas": null,
            "object_position": null,
            "object_fit": null,
            "grid_auto_columns": null,
            "margin": null,
            "display": null,
            "left": null
          }
        }
      }
    }
  },
  "cells": [
    {
      "cell_type": "markdown",
      "metadata": {
        "id": "view-in-github",
        "colab_type": "text"
      },
      "source": [
        "<a href=\"https://colab.research.google.com/github/ngockhanh5110/nlp-vietnamese-text-summarization/blob/main/notebooks/inferencing_vietnews.ipynb\" target=\"_parent\"><img src=\"https://colab.research.google.com/assets/colab-badge.svg\" alt=\"Open In Colab\"/></a>"
      ]
    },
    {
      "cell_type": "code",
      "metadata": {
        "id": "A6hRf-gcm92k"
      },
      "source": [
        "# from google.colab import drive\n",
        "# drive.mount('/content/drive')"
      ],
      "execution_count": 1,
      "outputs": []
    },
    {
      "cell_type": "code",
      "metadata": {
        "id": "wgp6VBA8DQ-l",
        "colab": {
          "base_uri": "https://localhost:8080/"
        },
        "outputId": "7db2765a-28a9-4b13-f929-cbfab43baf0b"
      },
      "source": [
        "# Authenticate\r\n",
        "from google.colab import auth\r\n",
        "auth.authenticate_user()\r\n",
        "print('Authenticated')"
      ],
      "execution_count": 2,
      "outputs": [
        {
          "output_type": "stream",
          "text": [
            "Authenticated\n"
          ],
          "name": "stdout"
        }
      ]
    },
    {
      "cell_type": "code",
      "metadata": {
        "id": "Gx4Vg4cbEUJ_"
      },
      "source": [
        "OUTPUT_DIR = '/content/training/'"
      ],
      "execution_count": 3,
      "outputs": []
    },
    {
      "cell_type": "code",
      "metadata": {
        "id": "nVUAENd5DYp6"
      },
      "source": [
        "import random\r\n",
        "\r\n",
        "random.seed(0)"
      ],
      "execution_count": 4,
      "outputs": []
    },
    {
      "cell_type": "code",
      "metadata": {
        "id": "3_GCCIaj7ulj"
      },
      "source": [
        "%%capture\r\n",
        "\r\n",
        "!wget 'https://github.com/ThanhChinhBK/vietnews/archive/master.zip'\r\n",
        "!unzip 'master.zip'"
      ],
      "execution_count": 5,
      "outputs": []
    },
    {
      "cell_type": "code",
      "metadata": {
        "id": "YzywNFmeKVgx"
      },
      "source": [
        "%%capture\r\n",
        "\r\n",
        "# !wget 'https://github.com/CLC-HCMUS/ViMs-Dataset/raw/master/ViMs.zip'\r\n",
        "# !unzip 'ViMs.zip'\r\n",
        "\r\n",
        "# Install the vncorenlp python wrapper\r\n",
        "!pip install vncorenlp\r\n",
        "\r\n",
        "# Download VnCoreNLP-1.1.1.jar & its word segmentation component (i.e. RDRSegmenter) \r\n",
        "!mkdir -p vncorenlp/models/wordsegmenter\r\n",
        "!wget https://raw.githubusercontent.com/vncorenlp/VnCoreNLP/master/VnCoreNLP-1.1.1.jar\r\n",
        "!wget https://raw.githubusercontent.com/vncorenlp/VnCoreNLP/master/models/wordsegmenter/vi-vocab\r\n",
        "!wget https://raw.githubusercontent.com/vncorenlp/VnCoreNLP/master/models/wordsegmenter/wordsegmenter.rdr\r\n",
        "!mv VnCoreNLP-1.1.1.jar vncorenlp/ \r\n",
        "!mv vi-vocab vncorenlp/models/wordsegmenter/\r\n",
        "!mv wordsegmenter.rdr vncorenlp/models/wordsegmenter/\r\n",
        "!pip install datasets==1.0.2"
      ],
      "execution_count": 6,
      "outputs": []
    },
    {
      "cell_type": "code",
      "metadata": {
        "id": "TZYjioRkKviO"
      },
      "source": [
        "import glob\r\n",
        "import pandas as pd\r\n",
        "import concurrent.futures\r\n",
        "from datasets import *"
      ],
      "execution_count": 7,
      "outputs": []
    },
    {
      "cell_type": "markdown",
      "metadata": {
        "id": "4IteMtlc58-y"
      },
      "source": [
        "## Processing data"
      ]
    },
    {
      "cell_type": "code",
      "metadata": {
        "id": "oWuj00alIK5D"
      },
      "source": [
        "# from vncorenlp import VnCoreNLP\r\n",
        "# rdrsegmenter = VnCoreNLP(\"./vncorenlp/VnCoreNLP-1.1.1.jar\", annotators=\"wseg\", max_heap_size='-Xmx2g') "
      ],
      "execution_count": 8,
      "outputs": []
    },
    {
      "cell_type": "code",
      "metadata": {
        "id": "UVkc5HmK6Bdd"
      },
      "source": [
        "def listPaths(path):\r\n",
        "  pathfiles = list()\r\n",
        "  for pathfile in glob.glob(path):\r\n",
        "    pathfiles.append(pathfile)\r\n",
        "  return pathfiles\r\n",
        "\r\n",
        "train_paths = listPaths('/content/vietnews-master/data/train_tokenized/*')\r\n",
        "val_paths = listPaths('/content/vietnews-master/data/val_tokenized/*')\r\n",
        "test_paths = listPaths('/content/vietnews-master/data/test_tokenized/*')"
      ],
      "execution_count": 9,
      "outputs": []
    },
    {
      "cell_type": "code",
      "metadata": {
        "id": "YZ8pgIYN7zSW"
      },
      "source": [
        "def read_content(pathfile):\n",
        "  \"\"\"\n",
        "  Input: Path of txt file\n",
        "  Output: A dictionary has keys 'original' and 'summary'\n",
        "  \"\"\"\n",
        "  with open(pathfile) as f:\n",
        "    rows  = f.readlines()\n",
        "    original = ' '.join(''.join(rows[4:]).split('\\n'))\n",
        "    summary = ' '.join(rows[2].split('\\n'))\n",
        "          \n",
        "  return {'file' : pathfile,\n",
        "          'original': original, \n",
        "          'summary': summary}"
      ],
      "execution_count": 10,
      "outputs": []
    },
    {
      "cell_type": "code",
      "metadata": {
        "colab": {
          "base_uri": "https://localhost:8080/"
        },
        "id": "_716GF2iDTcD",
        "outputId": "65ffe2c7-79ca-435a-bbb1-0b1ccf6df370"
      },
      "source": [
        "read_content(train_paths[0])"
      ],
      "execution_count": 11,
      "outputs": [
        {
          "output_type": "execute_result",
          "data": {
            "text/plain": [
              "{'file': '/content/vietnews-master/data/train_tokenized/033889.txt.seg',\n",
              " 'original': 'Theo RT , liên_quân do Mỹ dẫn_đầu được cho là đã không_kích các vị_trí của quân_đội Syria tại khu_vực Al_Bukamal thuộc tỉnh Deir ez - Zor , phía Đông_Syria . Thông_tin trên được hãng thông_tấn nhà_nước Syria SANA trích_dẫn nguồn tin quân_sự cho_hay . Theo đó , cuộc không_kích nhằm vào một_số vị_trí của quân_đội Syria tại al - Harra , phía Đông nam khu_vực Al_Bukamal . Theo nguồn_tin này , vụ không_kích dẫn đến tổn_thất về nhân_lực của quân_đội Syria , tuy_nhiên con_số thương_vong cụ_thể chưa được công_bố . Vụ không_kích này có_thể do một_số máy_bay_không_người_lái ( UAV ) của Mỹ thực_hiện , đồng_thời vụ không_kích này được cho là nhằm vào một_số vị_trí của lực_lượng Iraq và quân_đội Chính_phủ Syria tại khu_vực giữa Al_Bukamal và Tanf . Tuy_nhiên , hiện Lầu_Năm_Góc phủ_nhận có liên_quan tới vụ_việc . Đây không phải là vụ không kích đầu_tiên nhằm vào lực_lượng quân_đội Syria và các lực_lượng ủng_hộ Chính_phủ Syria tại Deir ez - Zor , nơi Lực_lượng Syria Dân_chủ ( SDF ) do phương Tây hậu_thuẫn đang hoạt_động . Lực_lượng SDF với sự hỗ_trợ của liên_minh chống IS do Mỹ dẫn_đầu bắt_đầu triển_khai chiến_dịch vào ngày 1/5/2018 với mục_tiêu quét sạch những chiến_binh thánh_chiến còn sót lại tại khu_vực biên_giới Syria – Iraq và trung_tâm thung_lũng sông Euphrates . Để giúp lực_lượng đồng_minh giành được vị_trí trên mặt_đất , liên_minh này thực_hiện 225 vụ không_kích với 280 lần đụng_độ chỉ trong tháng 5 . Liên_quân do Mỹ dẫn_đầu đang ủng_hộ các nhóm vũ_trang người Kurds và Arab tại Syria đối_phó với nhóm Nhà_nước Hồi_giáo tự_xưng ( IS ) ở khu_vực Đông_Bắc_Albu_Kamal . Mặc_dù quân_đội Syria cùng với sự hỗ_trợ của các lực_lượng đã kiểm_soát được khu_vực cùng những vùng phụ_cận vào năm_ngoái , nhưng nhóm phiến quân này vẫn thực_hiện các vụ tấn_công trong khu_vực . Xem thêm > > Israel hé lộ tên_lửa có_thể xuyên thủng mọi lá_chắn phòng_không ở Trung_Đông  ',\n",
              " 'summary': 'Lực_lượng liên_quân do Mỹ dẫn_đầu được cho là đã không kích ồ_ạt vào một trong những căn_cứ của quân_đội Syria tại phía Đông quốc_gia Trung_Đông này . '}"
            ]
          },
          "metadata": {
            "tags": []
          },
          "execution_count": 11
        }
      ]
    },
    {
      "cell_type": "code",
      "metadata": {
        "id": "Wm5kLJD_840E"
      },
      "source": [
        "def get_dataframe(pathfiles):\r\n",
        "  with concurrent.futures.ProcessPoolExecutor() as executor:\r\n",
        "    data = executor.map(read_content, pathfiles)\r\n",
        "  \r\n",
        "  # Make blank dataframe\r\n",
        "  data_df = list()\r\n",
        "  for d in data:\r\n",
        "    data_df.append(d)\r\n",
        "  data_df = pd.DataFrame(data_df)\r\n",
        "  data_df.dropna(inplace = True)\r\n",
        "  data_df = data_df.sample(frac=1).reset_index(drop=True)\r\n",
        "\r\n",
        "  return data_df"
      ],
      "execution_count": 12,
      "outputs": []
    },
    {
      "cell_type": "code",
      "metadata": {
        "id": "d4c0pl5BAl3f"
      },
      "source": [
        "# train_df = get_dataframe(train_paths)"
      ],
      "execution_count": 13,
      "outputs": []
    },
    {
      "cell_type": "code",
      "metadata": {
        "id": "DgMgMnisA0cf"
      },
      "source": [
        "test_df = get_dataframe(test_paths)"
      ],
      "execution_count": 14,
      "outputs": []
    },
    {
      "cell_type": "markdown",
      "metadata": {
        "id": "H1F58j028eTV"
      },
      "source": [
        "## **Warm-starting RoBERTaShared for BBC XSum**\n",
        "\n",
        "***Note***: This notebook only uses a few training, validation, and test data samples for demonstration purposes. To fine-tune an encoder-decoder model on the full training data, the user should change the training and data preprocessing parameters accordingly as highlighted by the comments.\n"
      ]
    },
    {
      "cell_type": "markdown",
      "metadata": {
        "id": "3FO5ESocXvlK"
      },
      "source": [
        "### **Data Preprocessing**\n"
      ]
    },
    {
      "cell_type": "code",
      "metadata": {
        "id": "w67vkz3KP9eZ"
      },
      "source": [
        "%%capture\n",
        "!pip install datasets==1.0.2\n",
        "!pip install transformers\n",
        "\n",
        "import datasets\n",
        "import transformers"
      ],
      "execution_count": 15,
      "outputs": []
    },
    {
      "cell_type": "code",
      "metadata": {
        "id": "sgTiC0rhMb7C"
      },
      "source": [
        "from transformers import RobertaTokenizerFast,AutoTokenizer\n"
      ],
      "execution_count": 16,
      "outputs": []
    },
    {
      "cell_type": "code",
      "metadata": {
        "id": "U08MrUK9LcUM"
      },
      "source": [
        "from sklearn.model_selection import train_test_split\r\n",
        "\r\n",
        "# train_data =  Dataset.from_pandas(train_df)"
      ],
      "execution_count": 17,
      "outputs": []
    },
    {
      "cell_type": "code",
      "metadata": {
        "id": "gzRvi4dEiMS9"
      },
      "source": [
        "test_data =  Dataset.from_pandas(test_df)"
      ],
      "execution_count": 18,
      "outputs": []
    },
    {
      "cell_type": "markdown",
      "metadata": {
        "id": "u98CLZiTkgzv"
      },
      "source": [
        "### **Fine-Tuning Warm-Started Encoder-Decoder Models**"
      ]
    },
    {
      "cell_type": "markdown",
      "metadata": {
        "id": "-gYzA-w96wCt"
      },
      "source": [
        "The `Seq2SeqTrainer` that can be found under [examples/seq2seq/seq2seq_trainer.py](https://github.com/huggingface/transformers/blob/master/examples/seq2seq/seq2seq_trainer.py) will be used to fine-tune a warm-started encoder-decoder model.\n",
        "\n",
        "Let's download the `Seq2SeqTrainer` code and import the module along with `TrainingArguments`."
      ]
    },
    {
      "cell_type": "code",
      "metadata": {
        "id": "pyiwaF0noA5c"
      },
      "source": [
        "%%capture\n",
        "!rm seq2seq_trainer.py\n",
        "!wget https://raw.githubusercontent.com/huggingface/transformers/master/examples/seq2seq/seq2seq_trainer.py\n",
        "\n",
        "!pip install git-python==1.0.3\n",
        "!pip install sacrebleu==1.4.12\n",
        "!pip install rouge_score\n",
        "\n",
        "from seq2seq_trainer import Seq2SeqTrainer\n",
        "from transformers import TrainingArguments\n",
        "from dataclasses import dataclass, field\n",
        "from typing import Optional"
      ],
      "execution_count": 19,
      "outputs": []
    },
    {
      "cell_type": "markdown",
      "metadata": {
        "id": "5nmQRT3XuHHz"
      },
      "source": [
        "We need to add some additional parameters to make `TrainingArguments` compatible with the `Seq2SeqTrainer`. Let's just copy the `dataclass` arguments as defined in [this file](https://github.com/patrickvonplaten/transformers/blob/make_seq2seq_trainer_self_contained/examples/seq2seq/finetune_trainer.py)."
      ]
    },
    {
      "cell_type": "markdown",
      "metadata": {
        "id": "dPUAgo7pxH24"
      },
      "source": [
        "Also, we need to define a function to correctly compute the ROUGE score during validation. ROUGE is a much better metric to track during training than only language modeling loss."
      ]
    },
    {
      "cell_type": "code",
      "metadata": {
        "id": "BQgzLsU_MJyz"
      },
      "source": [
        "import datasets"
      ],
      "execution_count": 20,
      "outputs": []
    },
    {
      "cell_type": "code",
      "metadata": {
        "id": "68IHmFYLx09W",
        "colab": {
          "base_uri": "https://localhost:8080/",
          "height": 66,
          "referenced_widgets": [
            "22f78a4069864febaa62d0db307b8cd0",
            "f67a2fcaae0748159e1cb40a3f24c199",
            "07f57c3189a54fb8839d6c2088e85a72",
            "9cb7ad15568a4059bff5435144cff4c1",
            "3c4f34318aae4dfb94630b4901be1561",
            "7f6f0140cccf412892423b32e43e82fd",
            "78ad9465d68342a7bd20df762eabbeb0",
            "d17d38585ea9431592adbf70ae88ad11"
          ]
        },
        "outputId": "02c51a1a-5aec-442b-dcb9-075a145b47e1"
      },
      "source": [
        "# load rouge for validation\n",
        "rouge = datasets.load_metric(\"rouge\")\n",
        "\n",
        "def compute_metrics(pred):\n",
        "    labels_ids = pred.label_ids\n",
        "    pred_ids = pred.predictions\n",
        "\n",
        "    # all unnecessary tokens are removed\n",
        "    pred_str = tokenizer.batch_decode(pred_ids, skip_special_tokens=True)\n",
        "    labels_ids[labels_ids == -100] = tokenizer.pad_token_id\n",
        "    label_str = tokenizer.batch_decode(labels_ids, skip_special_tokens=True)\n",
        "\n",
        "    rouge_output = rouge.compute(predictions=pred_str, references=label_str, rouge_types=[\"rouge2\"])[\"rouge2\"].mid\n",
        "\n",
        "    return {\n",
        "        \"rouge2_precision\": round(rouge_output.precision, 4),\n",
        "        \"rouge2_recall\": round(rouge_output.recall, 4),\n",
        "        \"rouge2_fmeasure\": round(rouge_output.fmeasure, 4),\n",
        "    }"
      ],
      "execution_count": 21,
      "outputs": [
        {
          "output_type": "display_data",
          "data": {
            "application/vnd.jupyter.widget-view+json": {
              "model_id": "22f78a4069864febaa62d0db307b8cd0",
              "version_minor": 0,
              "version_major": 2
            },
            "text/plain": [
              "HBox(children=(FloatProgress(value=0.0, description='Downloading', max=1717.0, style=ProgressStyle(description…"
            ]
          },
          "metadata": {
            "tags": []
          }
        },
        {
          "output_type": "stream",
          "text": [
            "\n"
          ],
          "name": "stdout"
        }
      ]
    },
    {
      "cell_type": "markdown",
      "metadata": {
        "id": "ZwQIEhKOrJpl"
      },
      "source": [
        "### **Evaluation**\n",
        "\n",
        "Awesome, we finished training our dummy model. Let's now evaluated the model on the test data. We make use of the dataset's handy `.map()` function to generate a summary of each sample of the test data."
      ]
    },
    {
      "cell_type": "code",
      "metadata": {
        "id": "T1YN8JZ4kRIw"
      },
      "source": [
        "!mkdir 'training'"
      ],
      "execution_count": 24,
      "outputs": []
    },
    {
      "cell_type": "code",
      "metadata": {
        "id": "7854KKs6EY4x",
        "colab": {
          "base_uri": "https://localhost:8080/"
        },
        "outputId": "c2875668-28fd-46eb-f91f-df3377c1757a"
      },
      "source": [
        "!gsutil -m cp -r 'gs://kaggle-vbdi-test/training_data/checkpoint-20000/*' '/content/training/' "
      ],
      "execution_count": 215,
      "outputs": [
        {
          "output_type": "stream",
          "text": [
            "Copying gs://kaggle-vbdi-test/training_data/checkpoint-20000/config.json...\n",
            "/ [0/6 files][    0.0 B/  1.8 GiB]   0% Done                                    \rCopying gs://kaggle-vbdi-test/training_data/checkpoint-20000/optimizer.pt...\n",
            "/ [0/6 files][    0.0 B/  1.8 GiB]   0% Done                                    \rCopying gs://kaggle-vbdi-test/training_data/checkpoint-20000/pytorch_model.bin...\n",
            "/ [0/6 files][    0.0 B/  1.8 GiB]   0% Done                                    \rCopying gs://kaggle-vbdi-test/training_data/checkpoint-20000/scheduler.pt...\n",
            "/ [0/6 files][    0.0 B/  1.8 GiB]   0% Done                                    \rCopying gs://kaggle-vbdi-test/training_data/checkpoint-20000/trainer_state.json...\n",
            "Copying gs://kaggle-vbdi-test/training_data/checkpoint-20000/training_args.bin...\n",
            "\\ [6/6 files][  1.8 GiB/  1.8 GiB] 100% Done  22.8 MiB/s ETA 00:00:00           \n",
            "Operation completed over 6 objects/1.8 GiB.                                      \n"
          ],
          "name": "stdout"
        }
      ]
    },
    {
      "cell_type": "code",
      "metadata": {
        "id": "oOoSrwWarJAC",
        "colab": {
          "base_uri": "https://localhost:8080/",
          "height": 66,
          "referenced_widgets": [
            "49f5eab8324a40979d6ec4e2d70415e4",
            "7e5b5d27ac0445e5b709954fe4b8d1ab",
            "8b8b068c57804df583b29021018de16d",
            "a0b0d2e606124d63b7846c6aad4cad98",
            "c0315b2a45a94e85be1b4b1137e9b9f0",
            "5ed6aa81b62641558ad7c41fc17df6b7",
            "390f71c0a1784d608987eea38b0a22dd",
            "de8093a9fb404f6d8a71ad28836fd2cd"
          ]
        },
        "outputId": "65c77030-7140-4c6f-af19-095914cd5997"
      },
      "source": [
        "import datasets\n",
        "from transformers import RobertaTokenizer, EncoderDecoderModel, AutoTokenizer\n",
        "from sklearn.model_selection import train_test_split\n",
        "\n",
        "tokenizer = AutoTokenizer.from_pretrained(\"vinai/phobert-base\", use_fast=False)\n",
        "\n",
        "model = EncoderDecoderModel.from_pretrained('/content/training')\n",
        "model.to(\"cuda\")\n",
        "\n",
        "# test_data = datasets.load_dataset(\"xsum\", split=\"test\")\n",
        "\n",
        "batch_size = 32  # change to 64 for full evaluation\n",
        "\n",
        "# map data correctly\n",
        "def generate_summary(batch):\n",
        "    # Tokenizer will automatically set [BOS] <text> [EOS]\n",
        "    inputs = tokenizer(batch[\"original\"], padding=\"max_length\", truncation=True, max_length=256, return_tensors=\"pt\")\n",
        "    input_ids = inputs.input_ids.to(\"cuda\")\n",
        "    attention_mask = inputs.attention_mask.to(\"cuda\")\n",
        "\n",
        "    outputs = model.generate(input_ids, attention_mask=attention_mask)\n",
        "\n",
        "    # all special tokens including will be removed\n",
        "    output_str = tokenizer.batch_decode(outputs, skip_special_tokens=True)\n",
        "\n",
        "    batch[\"pred\"] = output_str\n",
        "\n",
        "    return batch\n",
        "\n",
        "results = test_data.map(generate_summary, batched=True, batch_size=batch_size, remove_columns=[\"original\"])\n",
        "\n",
        "pred_str = results[\"pred\"]\n",
        "label_str = results[\"summary\"]"
      ],
      "execution_count": 216,
      "outputs": [
        {
          "output_type": "display_data",
          "data": {
            "application/vnd.jupyter.widget-view+json": {
              "model_id": "49f5eab8324a40979d6ec4e2d70415e4",
              "version_minor": 0,
              "version_major": 2
            },
            "text/plain": [
              "HBox(children=(FloatProgress(value=0.0, max=708.0), HTML(value='')))"
            ]
          },
          "metadata": {
            "tags": []
          }
        },
        {
          "output_type": "stream",
          "text": [
            "\n"
          ],
          "name": "stdout"
        }
      ]
    },
    {
      "cell_type": "code",
      "metadata": {
        "id": "NHl8NMjEiTb6"
      },
      "source": [
        "rouge_output = rouge.compute(predictions=pred_str, references=label_str, rouge_types=[\"rouge1\",\"rouge2\",\"rougeL\"])"
      ],
      "execution_count": 217,
      "outputs": []
    },
    {
      "cell_type": "code",
      "metadata": {
        "id": "13HUSVh4-CAk",
        "colab": {
          "base_uri": "https://localhost:8080/"
        },
        "outputId": "55724786-e8a6-4fc0-bb87-a6fdb0a2f6ee"
      },
      "source": [
        "for key,value in rouge_output.items():\r\n",
        "  print(key)\r\n",
        "  print(value.mid)"
      ],
      "execution_count": 218,
      "outputs": [
        {
          "output_type": "stream",
          "text": [
            "rouge1\n",
            "Score(precision=0.633608207130866, recall=0.5650859859756249, fmeasure=0.5866591733414444)\n",
            "rouge2\n",
            "Score(precision=0.29153183231813984, recall=0.2602756399045278, fmeasure=0.2699654296173031)\n",
            "rougeL\n",
            "Score(precision=0.40849614549773827, recall=0.3648733690442705, fmeasure=0.37846726543911663)\n"
          ],
          "name": "stdout"
        }
      ]
    },
    {
      "cell_type": "code",
      "metadata": {
        "id": "Y8R5CclwUGuC",
        "colab": {
          "base_uri": "https://localhost:8080/"
        },
        "outputId": "a0d51527-733b-41aa-f063-57ed9988ace0"
      },
      "source": [
        "i = 39\r\n",
        "print('Prediction: ',pred_str[i])\r\n",
        "print('Truth: ',label_str[i])\r\n",
        "print('Content: ',test_data[i]['original'])"
      ],
      "execution_count": 231,
      "outputs": [
        {
          "output_type": "stream",
          "text": [
            "Prediction:  Tổng_thống Indonesia Joko_Widodo cho_biết nước này sẵn_sàng tuần_tra chung với Australia trên Biển_Đông, nhưng không nêu vấn_đề này.\n",
            "Truth:  Tổng_thống Indonesia cho_biết ông sẽ thảo_luận việc tuần_tra chung ở Biển_Đông khi gặp Thủ_tướng Australia cuối tuần này . \n",
            "Content:  Tổng_thống Indonesia_Widodo đứng trên boong chiến_hạm Hải_quân Indonesia . \" Nếu không có căng_thẳng , tôi nghĩ việc tuần_tra chung rất quan_trọng . Chúng_tôi sẽ thảo_luận vấn_đề này với Thủ_tướng Turnbull \" , Reuters hôm_nay dẫn lời Tổng_thống Indonesia Joko_Widodo . Tổng_thống Indonesia_Widodo sẽ có cuộc gặp với Thủ_tướng Australia_Malcolm_Turnbull vào cuối tuần này . Widodo nói ông muốn tuần_tra chung với Australia trên Biển_Đông , nhưng chỉ khi điều này không làm bùng_phát căng_thẳng với Trung_Quốc . Indonesia có truyền_thống lựa_chọn lập_trường trung_lập trong vấn_đề Biển_Đông . Tuy_nhiên , sau khi Trung_Quốc chọc_giận Indonesia bằng tuyên_bố hai nước có \" tuyên_bố chồng_lấn \" về vùng_biển gần đảo Natuna của Indonesia , Jakarta đã phản_ứng bằng các cuộc tập_trận quy_mô lớn trên Biển_Đông tháng 10/2016. Australia không có tuyên_bố chủ_quyền ở Biển_Đông , song hỗ_trợ Mỹ trong các hoạt_động tuần_tra bảo_đảm tự_do hàng_hải . Nước này đang tìm cách hàn_gắn quan_hệ với Indonesia sau một tranh_cãi gần đây . Indonesia đã ngừng hợp_tác quân_sự với Australia hồi tháng 1 sau khi một tài_liệu giảng_dạy \" xúc_phạm \" được tìm thấy trong một căn_cứ_quân_sự của Australia . Chỉ_huy quân_đội của Australia đã xin_lỗi Indonesia vào tháng hai , nhưng hợp_tác quân_sự giữa hai nước vẫn bị tạm ngừng . Văn_Việt   Tổng_thống Indonesia_Widodo đứng trên boong chiến_hạm Hải_quân Indonesia . \n"
          ],
          "name": "stdout"
        }
      ]
    },
    {
      "cell_type": "code",
      "metadata": {
        "id": "n4kLAIQSr5g2",
        "colab": {
          "base_uri": "https://localhost:8080/",
          "height": 35
        },
        "outputId": "ae37d717-a440-48af-9017-d5fc990ca7bd"
      },
      "source": [
        "test_data[i]['file']"
      ],
      "execution_count": 34,
      "outputs": [
        {
          "output_type": "execute_result",
          "data": {
            "application/vnd.google.colaboratory.intrinsic+json": {
              "type": "string"
            },
            "text/plain": [
              "'/content/vietnews-master/data/test_tokenized/016385.txt.seg'"
            ]
          },
          "metadata": {
            "tags": []
          },
          "execution_count": 34
        }
      ]
    },
    {
      "cell_type": "code",
      "metadata": {
        "id": "D__lCYyZvFhr"
      },
      "source": [
        "from vncorenlp import VnCoreNLP\r\n",
        "\r\n",
        "rdrsegmenter = VnCoreNLP(\"./vncorenlp/VnCoreNLP-1.1.1.jar\", annotators=\"wseg\", max_heap_size='-Xmx2g') "
      ],
      "execution_count": 36,
      "outputs": []
    },
    {
      "cell_type": "code",
      "metadata": {
        "id": "wWa2uIUHzY1R"
      },
      "source": [
        "text = '''\r\n",
        "Sáng 3/2, Chủ tịch UBND thành phố Hà Nội Chu Ngọc Anh, Trưởng đoàn kiểm tra số 2 của Ban Thường vụ Thành ủy đã đến kiểm tra công tác phòng chống dịch COVID-19 tại huyện Thanh Oai và Chương Mỹ.\r\n",
        "\r\n",
        " Tại 2 huyện, Chủ tịch UBND thành phố Hà Nội Chu Ngọc Anh cho biết, thời gian qua thành phố đã bám sát chỉ đạo của T.Ư và đã kịp thời lãnh đạo, chỉ đạo, kích hoạt hệ thống phòng chống dịch từ thành phố đến khu dân cư, tổ dân phố với tinh thần: “Trách nhiệm cao nhất, chủ động quyết liệt, không lơi là chủ quan để kiểm soát, không chế dịch bệnh nhanh nhất”\r\n",
        "'''"
      ],
      "execution_count": 212,
      "outputs": []
    },
    {
      "cell_type": "code",
      "metadata": {
        "id": "XUXmH90UznVP",
        "colab": {
          "base_uri": "https://localhost:8080/",
          "height": 69
        },
        "outputId": "4876fd58-456d-495e-f714-8152c4804b5a"
      },
      "source": [
        "text = rdrsegmenter.tokenize(text)\r\n",
        "text = ' '.join([' '.join(x) for x in text])\r\n",
        "text"
      ],
      "execution_count": 213,
      "outputs": [
        {
          "output_type": "execute_result",
          "data": {
            "application/vnd.google.colaboratory.intrinsic+json": {
              "type": "string"
            },
            "text/plain": [
              "'Sáng 3/2 , Chủ_tịch UBND thành_phố Hà_Nội Chu_Ngọc_Anh , Trưởng_đoàn kiểm_tra số 2 của Ban Thường_vụ Thành_uỷ đã đến kiểm_tra công_tác phòng_chống dịch COVID-19 tại huyện Thanh_Oai và Chương_Mỹ . Tại 2 huyện , Chủ_tịch UBND thành_phố Hà_Nội Chu_Ngọc_Anh cho biết , thời_gian qua thành_phố đã bám sát chỉ_đạo của T.Ư và đã kịp_thời lãnh_đạo , chỉ_đạo , kích_hoạt hệ_thống phòng_chống dịch từ thành_phố đến khu dân_cư , tổ_dân_phố với tinh_thần : “ Trách_nhiệm cao nhất , chủ_động quyết_liệt , không lơi_là chủ_quan để kiểm_soát , không chế dịch_bệnh nhanh nhất ”'"
            ]
          },
          "metadata": {
            "tags": []
          },
          "execution_count": 213
        }
      ]
    },
    {
      "cell_type": "code",
      "metadata": {
        "id": "eCQ5zA96zuzu",
        "colab": {
          "base_uri": "https://localhost:8080/"
        },
        "outputId": "c5100db3-7386-469e-b6e9-563c273da762"
      },
      "source": [
        "inputs = tokenizer(text, padding=\"max_length\", truncation=True, max_length=256, return_tensors=\"pt\")\r\n",
        "input_ids = inputs.input_ids.to(\"cuda\")\r\n",
        "attention_mask = inputs.attention_mask.to(\"cuda\")\r\n",
        "\r\n",
        "outputs = model.generate(input_ids, attention_mask=attention_mask)\r\n",
        "\r\n",
        "# all special tokens including will be removed\r\n",
        "output_str = tokenizer.batch_decode(outputs, skip_special_tokens=True)\r\n",
        "output_str"
      ],
      "execution_count": 214,
      "outputs": [
        {
          "output_type": "execute_result",
          "data": {
            "text/plain": [
              "['Chủ_tịch là Chủ_tịch UBND TP Hà_Nội Chu_Ngọc_Anh khẳng_định, hệ_thống phòng_chống dịch_bệnh COVINA đã được vận_hành thông_suốt, không chủ_quan chủ_quan, chủ_quan chủ_quan mà chủ_quan chủ_quan chủ_quan.']"
            ]
          },
          "metadata": {
            "tags": []
          },
          "execution_count": 214
        }
      ]
    },
    {
      "cell_type": "code",
      "metadata": {
        "id": "H06_kgjD3ftO"
      },
      "source": [],
      "execution_count": null,
      "outputs": []
    }
  ]
}